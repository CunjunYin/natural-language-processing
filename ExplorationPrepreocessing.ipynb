{
 "cells": [
  {
   "cell_type": "code",
   "execution_count": 1,
   "id": "41c1f7a3-51bf-43d7-b1b4-288c2d1db545",
   "metadata": {},
   "outputs": [],
   "source": [
    "import pandas as pd\n",
    "import numpy as np\n",
    "import re\n",
    "import string\n",
    "import gensim\n",
    "import time\n",
    "import json\n",
    "\n",
    "\n",
    "import nltk\n",
    "from nltk.stem.wordnet import WordNetLemmatizer\n",
    "from nltk.stem import PorterStemmer\n",
    "from nltk import word_tokenize\n",
    "from sklearn.model_selection import train_test_split\n",
    "from sklearn.preprocessing import OneHotEncoder\n",
    "from sklearn.feature_extraction.text import TfidfVectorizer\n",
    "from gensim.corpora import Dictionary\n",
    "from sklearn.feature_extraction.text import CountVectorizer\n",
    "import seaborn as sns\n",
    "\n",
    "import multiprocessing as mp\n",
    "from spellchecker import SpellChecker\n",
    "\n",
    "import torch\n",
    "import torch.nn as nn\n",
    "import torch.optim as optim\n",
    "import math\n",
    "from argparse import Namespace\n",
    "\n",
    "from torch.utils.data import Dataset, DataLoader\n",
    "from collections import Counter\n",
    "from tqdm import tqdm_notebook\n",
    "from tqdm.notebook import tqdm\n",
    "\n",
    "import matplotlib.pyplot as plt\n",
    "from sklearn.metrics import ConfusionMatrixDisplay\n",
    "import codecs"
   ]
  },
  {
   "cell_type": "markdown",
   "id": "8a86b2a9-d0ee-4dc1-bdd3-79df703dcd05",
   "metadata": {},
   "source": [
    "# Init"
   ]
  },
  {
   "cell_type": "code",
   "execution_count": 2,
   "id": "4db1116f-7149-4069-9a99-176c1e059a6a",
   "metadata": {},
   "outputs": [],
   "source": [
    "if not nltk.find('corpora/wordnet'):\n",
    "     nltk.download('wordnet')\n",
    "porter_stemmer  = PorterStemmer()\n",
    "lemmatizer      = WordNetLemmatizer()\n",
    "regex_tokenizer = nltk.tokenize.RegexpTokenizer(r\"\\w+\")\n",
    "spell  = SpellChecker()\n",
    "one_hot_vectorizer = CountVectorizer(binary=True)\n",
    "args = Namespace(\n",
    "    degree_injury_file=\"./data/degreeinjury.csv\",\n",
    "    injury_bodyparts_file=\"./data/injurybodyparts.csv\",\n",
    "    NER_file=\"./data/ner.csv\",\n",
    "    ner_accident = 'us_accidents.txt',\n",
    "    clf_accident = 'us_data_2000.csv',\n",
    "    \n",
    ")"
   ]
  },
  {
   "cell_type": "markdown",
   "id": "0a205c87-3a40-4419-a655-053f3941b68d",
   "metadata": {},
   "source": [
    "# Functions"
   ]
  },
  {
   "cell_type": "code",
   "execution_count": 3,
   "id": "56df0a7b-afa0-44bd-abe6-86f81c9c25ff",
   "metadata": {},
   "outputs": [],
   "source": [
    "def clean_text(text):\n",
    "    txt = ''\n",
    "    txt = txt.strip()\n",
    "    txt = re.sub(r\"([.,!?])\", r\" \\1 \", txt)\n",
    "    for word in tokenize(text):\n",
    "        # The EE is short hand on employee\n",
    "        if word=='ee' or word == 'EE':\n",
    "            txt += ' employee '\n",
    "        elif word in string.punctuation:\n",
    "            txt = txt + ' ' +word\n",
    "        elif len(word)>2:\n",
    "            word = spell.correction(word)\n",
    "            txt = txt + ' ' + word.lower().strip()\n",
    "    txt = re.sub(r\"[^a-zA-Z.,!?]+\", r\" \", txt)\n",
    "    return txt.strip()\n",
    "\n",
    "def tokenize(text):\n",
    "    return nltk.word_tokenize(text)\n",
    "\n",
    "def stem(words, df=False):\n",
    "    stemmed_words=[porter_stemmer.stem(word) for word in words]\n",
    "    if df:\n",
    "        return pd.DataFrame({'original': words,'stemmed': stemmed_words})\n",
    "    return stemmed_words\n",
    "\n",
    "def get_wordnet_pos(tag):\n",
    "    if tag.startswith('J'):\n",
    "        return nltk.corpus.wordnet.ADJ\n",
    "    elif tag.startswith('V'):\n",
    "        return nltk.corpus.wordnet.VERB\n",
    "    elif tag.startswith('N'):\n",
    "        return nltk.corpus.wordnet.NOUN\n",
    "    elif tag.startswith('R'):\n",
    "        return nltk.corpus.wordnet.ADV\n",
    "    else:\n",
    "        return None\n",
    "\n",
    "def lemmatize(words, df=False):\n",
    "    lemmatized_words=[]\n",
    "    tagged_sent = nltk.pos_tag(words)\n",
    "    \n",
    "    for tag in tagged_sent:\n",
    "        wordnet_pos = get_wordnet_pos(tag[1]) or nltk.corpus.wordnet.NOUN\n",
    "        if wordnet_pos is None:\n",
    "            spell.correction(lemmatized_words.append(lemmatizer.lemmatize(tag[0])))\n",
    "        else:\n",
    "            lemmatized_words.append(spell.correction(lemmatizer.lemmatize(tag[0], pos=wordnet_pos)))\n",
    "    \n",
    "    if df:\n",
    "        return pd.DataFrame({'original': words,'lemmatized': lemmatized_words})\n",
    "    return lemmatized_words\n",
    "\n",
    "def lemmatize_word(word):\n",
    "    tagged_sent = nltk.pos_tag([word])\n",
    "    wordnet_pos = get_wordnet_pos(tagged_sent[0][1]) or nltk.corpus.wordnet.NOUN\n",
    "    if wordnet_pos is None:\n",
    "        return lemmatizer.lemmatize(tagged_sent[0][0])\n",
    "    else:\n",
    "        return lemmatizer.lemmatize(tagged_sent[0][0], pos=wordnet_pos)\n",
    "\n",
    "def SK_TFIDF_stopwords(corpus, vectorizer):\n",
    "    vectorizer.fit(corpus)\n",
    "    X = vectorizer.transform(corpus)\n",
    "    return vectorizer.stop_words_, X\n",
    "\n",
    "def get_words(texts):\n",
    "    words = []\n",
    "    for text in texts:\n",
    "        words+=regex_tokenizer.tokenize(text)\n",
    "    return np.asarray(words).reshape(-1, 1)\n",
    "\n",
    "def spell_check(words):\n",
    "    return [spell.correction(word) for word in words]\n",
    "\n",
    "def remove_stopwords(words, stopwords):\n",
    "    return [w for w in words if w not in stopwords]\n",
    "\n",
    "def split_save(data, path, test=0.2, valid= 0.1, stratify=True):\n",
    "    if stratify:\n",
    "        train, test  = train_test_split(data,  test_size=test, random_state=666, shuffle=True, stratify=data['target'])\n",
    "        train, valid = train_test_split(train, test_size=valid, random_state=666, shuffle=True, stratify=train['target'])\n",
    "    else:\n",
    "        train, test  = train_test_split(data,  test_size=test, random_state=666, shuffle=True)\n",
    "        train, valid = train_test_split(train, test_size=valid, random_state=666, shuffle=True)\n",
    "    train['split'] = 'train'\n",
    "    test['split']  = 'test'\n",
    "    valid['split'] = 'val'\n",
    "    pd.concat([train, valid, test]).to_csv(path, index=False)"
   ]
  },
  {
   "cell_type": "markdown",
   "id": "2250cdd9-67bb-4ec8-8ae8-048404510733",
   "metadata": {
    "tags": []
   },
   "source": [
    "# Clean Narrative\n",
    "#### Clean Narrative is computionally expensive run if only necessary"
   ]
  },
  {
   "cell_type": "code",
   "execution_count": 4,
   "id": "de8dacb8-dd1d-40cd-8d17-7e4bfc44508c",
   "metadata": {},
   "outputs": [
    {
     "data": {
      "text/html": [
       "<div>\n",
       "<style scoped>\n",
       "    .dataframe tbody tr th:only-of-type {\n",
       "        vertical-align: middle;\n",
       "    }\n",
       "\n",
       "    .dataframe tbody tr th {\n",
       "        vertical-align: top;\n",
       "    }\n",
       "\n",
       "    .dataframe thead th {\n",
       "        text-align: right;\n",
       "    }\n",
       "</style>\n",
       "<table border=\"1\" class=\"dataframe\">\n",
       "  <thead>\n",
       "    <tr style=\"text-align: right;\">\n",
       "      <th></th>\n",
       "      <th>DEGREE_INJURY</th>\n",
       "      <th>DEGREE_INJURY_CD</th>\n",
       "      <th>INJ_BODY_PART_CD</th>\n",
       "      <th>INJ_BODY_PART</th>\n",
       "      <th>NARRATIVE</th>\n",
       "    </tr>\n",
       "  </thead>\n",
       "  <tbody>\n",
       "    <tr>\n",
       "      <th>0</th>\n",
       "      <td>DAYS RESTRICTED ACTIVITY ONLY</td>\n",
       "      <td>5</td>\n",
       "      <td>700</td>\n",
       "      <td>MULTIPLE PARTS (MORE THAN ONE MAJOR)</td>\n",
       "      <td>Employee was cleaning up at the Primary Crushe...</td>\n",
       "    </tr>\n",
       "  </tbody>\n",
       "</table>\n",
       "</div>"
      ],
      "text/plain": [
       "                   DEGREE_INJURY DEGREE_INJURY_CD INJ_BODY_PART_CD  \\\n",
       "0  DAYS RESTRICTED ACTIVITY ONLY                5              700   \n",
       "\n",
       "                          INJ_BODY_PART  \\\n",
       "0  MULTIPLE PARTS (MORE THAN ONE MAJOR)   \n",
       "\n",
       "                                           NARRATIVE  \n",
       "0  Employee was cleaning up at the Primary Crushe...  "
      ]
     },
     "execution_count": 4,
     "metadata": {},
     "output_type": "execute_result"
    }
   ],
   "source": [
    "df = pd.read_csv(args.clf_accident)\n",
    "df = df[['DEGREE_INJURY', 'DEGREE_INJURY_CD', 'INJ_BODY_PART_CD', 'INJ_BODY_PART', 'NARRATIVE']]\n",
    "df.head(1)"
   ]
  },
  {
   "cell_type": "code",
   "execution_count": 5,
   "id": "51197654-793f-4bc6-b042-8d245655b6ac",
   "metadata": {},
   "outputs": [
    {
     "data": {
      "text/plain": [
       "DEGREE_INJURY       False\n",
       "DEGREE_INJURY_CD    False\n",
       "INJ_BODY_PART_CD    False\n",
       "INJ_BODY_PART       False\n",
       "NARRATIVE           False\n",
       "dtype: bool"
      ]
     },
     "execution_count": 5,
     "metadata": {},
     "output_type": "execute_result"
    }
   ],
   "source": [
    "df.isnull().any()"
   ]
  },
  {
   "cell_type": "code",
   "execution_count": 6,
   "id": "c27d9322-f798-4eb3-9c37-7b113ddb2534",
   "metadata": {},
   "outputs": [
    {
     "name": "stdout",
     "output_type": "stream",
     "text": [
      "NARRATIVE NaN count:    0\n",
      "NARRATIVE len>10 count: 1\n",
      "\n",
      "DEGREE_INJURY_CD \"?\" count:  11\n",
      "\n",
      "INJ_BODY_PART_CD \"?\" count:  242\n"
     ]
    }
   ],
   "source": [
    "print('NARRATIVE NaN count:   ', df[df['NARRATIVE'].isna()].shape[0])\n",
    "print('NARRATIVE len>10 count:', df[df['NARRATIVE'].str.len() < 10].shape[0])\n",
    "print('\\nDEGREE_INJURY_CD \"?\" count: ', df[df['DEGREE_INJURY_CD'] == '?'].shape[0])\n",
    "print('\\nINJ_BODY_PART_CD \"?\" count: ', df[df['INJ_BODY_PART_CD'] == '?'].shape[0])"
   ]
  },
  {
   "cell_type": "markdown",
   "id": "23073a2f-cf11-498a-892a-46d405a7df05",
   "metadata": {
    "tags": []
   },
   "source": [
    "#### Remove Narrative are too short and NA"
   ]
  },
  {
   "cell_type": "code",
   "execution_count": 7,
   "id": "1cf44342-0f0b-4fbe-94dd-9a7e5a8e12bf",
   "metadata": {},
   "outputs": [
    {
     "name": "stdout",
     "output_type": "stream",
     "text": [
      "Origin data size:       2000\n",
      "Clean data size: 1999\n"
     ]
    }
   ],
   "source": [
    "print(\"Origin data size:      \", df.shape[0])\n",
    "df = df[df['NARRATIVE'].notna()]\n",
    "df = df[df['NARRATIVE'].str.len() > 10]\n",
    "print(\"Clean data size:\", df.shape[0])"
   ]
  },
  {
   "cell_type": "markdown",
   "id": "14b9f2eb-40c5-48ea-8d6e-62f64c7d3c25",
   "metadata": {
    "tags": []
   },
   "source": [
    "### To Lower case and correct words"
   ]
  },
  {
   "cell_type": "code",
   "execution_count": 8,
   "id": "093d3251-cd01-4e0d-849a-261c408c4854",
   "metadata": {},
   "outputs": [
    {
     "data": {
      "text/plain": [
       "'employee was cleaning the primary crusher with the dingo skid steer . the employee slipped and fell while operating the skid steer and the machine pinned him against the cement retaining wall .'"
      ]
     },
     "execution_count": 8,
     "metadata": {},
     "output_type": "execute_result"
    }
   ],
   "source": [
    "with mp.Pool(mp.cpu_count()) as pool:\n",
    "    df['NARRATIVE'] = pool.map(clean_text, df['NARRATIVE'])\n",
    "df['NARRATIVE'].values[0]"
   ]
  },
  {
   "cell_type": "markdown",
   "id": "afa7677e-3ee4-4c84-8090-8aea97e50c13",
   "metadata": {
    "tags": []
   },
   "source": [
    "### Dataset for task 1"
   ]
  },
  {
   "cell_type": "code",
   "execution_count": 9,
   "id": "a90294b3-a7b1-4296-ad34-f985ff764a51",
   "metadata": {},
   "outputs": [
    {
     "data": {
      "text/html": [
       "<div>\n",
       "<style scoped>\n",
       "    .dataframe tbody tr th:only-of-type {\n",
       "        vertical-align: middle;\n",
       "    }\n",
       "\n",
       "    .dataframe tbody tr th {\n",
       "        vertical-align: top;\n",
       "    }\n",
       "\n",
       "    .dataframe thead th {\n",
       "        text-align: right;\n",
       "    }\n",
       "</style>\n",
       "<table border=\"1\" class=\"dataframe\">\n",
       "  <thead>\n",
       "    <tr style=\"text-align: right;\">\n",
       "      <th></th>\n",
       "      <th>DEGREE_INJURY_CD</th>\n",
       "      <th>DEGREE_INJURY</th>\n",
       "    </tr>\n",
       "  </thead>\n",
       "  <tbody>\n",
       "    <tr>\n",
       "      <th>0</th>\n",
       "      <td>0</td>\n",
       "      <td>ACCIDENT ONLY</td>\n",
       "    </tr>\n",
       "    <tr>\n",
       "      <th>1</th>\n",
       "      <td>1</td>\n",
       "      <td>FATALITY</td>\n",
       "    </tr>\n",
       "    <tr>\n",
       "      <th>2</th>\n",
       "      <td>2</td>\n",
       "      <td>PERM TOT OR PERM PRTL DISABLTY</td>\n",
       "    </tr>\n",
       "    <tr>\n",
       "      <th>3</th>\n",
       "      <td>3</td>\n",
       "      <td>DAYS AWAY FROM WORK ONLY</td>\n",
       "    </tr>\n",
       "    <tr>\n",
       "      <th>4</th>\n",
       "      <td>4</td>\n",
       "      <td>DYS AWY FRM WRK &amp; RESTRCTD ACT</td>\n",
       "    </tr>\n",
       "    <tr>\n",
       "      <th>5</th>\n",
       "      <td>5</td>\n",
       "      <td>DAYS RESTRICTED ACTIVITY ONLY</td>\n",
       "    </tr>\n",
       "    <tr>\n",
       "      <th>6</th>\n",
       "      <td>6</td>\n",
       "      <td>NO DYS AWY FRM WRK,NO RSTR ACT</td>\n",
       "    </tr>\n",
       "    <tr>\n",
       "      <th>7</th>\n",
       "      <td>7</td>\n",
       "      <td>OCCUPATNAL ILLNESS NOT DEG 1-6</td>\n",
       "    </tr>\n",
       "    <tr>\n",
       "      <th>8</th>\n",
       "      <td>8</td>\n",
       "      <td>INJURIES DUE TO NATURAL CAUSES</td>\n",
       "    </tr>\n",
       "    <tr>\n",
       "      <th>9</th>\n",
       "      <td>9</td>\n",
       "      <td>INJURIES INVOLVNG NONEMPLOYEES</td>\n",
       "    </tr>\n",
       "    <tr>\n",
       "      <th>10</th>\n",
       "      <td>10</td>\n",
       "      <td>ALL OTHER CASES (INCL 1ST AID)</td>\n",
       "    </tr>\n",
       "  </tbody>\n",
       "</table>\n",
       "</div>"
      ],
      "text/plain": [
       "    DEGREE_INJURY_CD                   DEGREE_INJURY\n",
       "0                  0                   ACCIDENT ONLY\n",
       "1                  1                        FATALITY\n",
       "2                  2  PERM TOT OR PERM PRTL DISABLTY\n",
       "3                  3        DAYS AWAY FROM WORK ONLY\n",
       "4                  4  DYS AWY FRM WRK & RESTRCTD ACT\n",
       "5                  5   DAYS RESTRICTED ACTIVITY ONLY\n",
       "6                  6  NO DYS AWY FRM WRK,NO RSTR ACT\n",
       "7                  7  OCCUPATNAL ILLNESS NOT DEG 1-6\n",
       "8                  8  INJURIES DUE TO NATURAL CAUSES\n",
       "9                  9  INJURIES INVOLVNG NONEMPLOYEES\n",
       "10                10  ALL OTHER CASES (INCL 1ST AID)"
      ]
     },
     "execution_count": 9,
     "metadata": {},
     "output_type": "execute_result"
    }
   ],
   "source": [
    "df_degree=df[['NARRATIVE', 'DEGREE_INJURY_CD', 'DEGREE_INJURY']].copy()\n",
    "df_degree = df_degree[df_degree['DEGREE_INJURY_CD'] != '?']\n",
    "df_degree['DEGREE_INJURY_CD'] = pd.to_numeric(df_degree['DEGREE_INJURY_CD'])\n",
    "\n",
    "def get_degree_injury(dataframe):\n",
    "    CD = []\n",
    "    INJURY = []\n",
    "    for i in range(0, len(dataframe.DEGREE_INJURY_CD.unique())):\n",
    "        CD.append(i)\n",
    "        INJURY.append(dataframe[dataframe['DEGREE_INJURY_CD'] == i]['DEGREE_INJURY'].values[0])\n",
    "    return pd.DataFrame({'DEGREE_INJURY_CD': CD,'DEGREE_INJURY': INJURY})\n",
    "\n",
    "get_degree_injury(df_degree)"
   ]
  },
  {
   "cell_type": "code",
   "execution_count": 10,
   "id": "7aa36cf5-8f99-4df3-b6b4-37a90d156ea0",
   "metadata": {},
   "outputs": [
    {
     "data": {
      "text/plain": [
       "DAYS AWAY FROM WORK ONLY          29.879276\n",
       "NO DYS AWY FRM WRK,NO RSTR ACT    27.766600\n",
       "DAYS RESTRICTED ACTIVITY ONLY     18.058350\n",
       "ACCIDENT ONLY                     11.016097\n",
       "DYS AWY FRM WRK & RESTRCTD ACT     7.293763\n",
       "OCCUPATNAL ILLNESS NOT DEG 1-6     2.867203\n",
       "ALL OTHER CASES (INCL 1ST AID)     1.006036\n",
       "PERM TOT OR PERM PRTL DISABLTY     0.905433\n",
       "FATALITY                           0.553320\n",
       "INJURIES DUE TO NATURAL CAUSES     0.503018\n",
       "INJURIES INVOLVNG NONEMPLOYEES     0.150905\n",
       "Name: DEGREE_INJURY, dtype: float64"
      ]
     },
     "execution_count": 10,
     "metadata": {},
     "output_type": "execute_result"
    }
   ],
   "source": [
    "100*df_degree['DEGREE_INJURY'].value_counts(normalize=True)"
   ]
  },
  {
   "cell_type": "markdown",
   "id": "d6ee8ff8-564c-4757-97ea-f28f8f00617e",
   "metadata": {},
   "source": [
    "### Group and save"
   ]
  },
  {
   "cell_type": "code",
   "execution_count": 11,
   "id": "82e3fb9c-6e90-41a5-844d-b42cc1c3fda7",
   "metadata": {},
   "outputs": [],
   "source": [
    "group1 = [\n",
    "    'DAYS AWAY FROM WORK ONLY',\n",
    "    'DAYS RESTRICTED ACTIVITY ONLY',\n",
    "    'DYS AWY FRM WRK & RESTRCTD ACT'\n",
    "]\n",
    "df_degree['target'] = df_degree['DEGREE_INJURY'].isin(group1)\n",
    "df_degree[\"target\"] = df_degree[\"target\"].astype(str)\n",
    "del df_degree['DEGREE_INJURY']\n",
    "del df_degree['DEGREE_INJURY_CD']\n",
    "split_save(df_degree, path=args.degree_injury_file)"
   ]
  },
  {
   "cell_type": "markdown",
   "id": "92c5eec3-56b7-4766-ae82-2ab86a19085d",
   "metadata": {},
   "source": [
    "### Check balance"
   ]
  },
  {
   "cell_type": "code",
   "execution_count": 12,
   "id": "e137259e-2863-4a82-b488-130d8fc923d6",
   "metadata": {},
   "outputs": [
    {
     "data": {
      "text/plain": [
       "True     55.231388\n",
       "False    44.768612\n",
       "Name: target, dtype: float64"
      ]
     },
     "execution_count": 12,
     "metadata": {},
     "output_type": "execute_result"
    }
   ],
   "source": [
    "100*df_degree['target'].value_counts(normalize=True)"
   ]
  },
  {
   "cell_type": "code",
   "execution_count": 13,
   "id": "c3a53352-d7c2-483e-a73f-973ce00d52d1",
   "metadata": {},
   "outputs": [
    {
     "data": {
      "text/plain": [
       "<AxesSubplot:title={'center':'Target class balance'}, xlabel='target'>"
      ]
     },
     "execution_count": 13,
     "metadata": {},
     "output_type": "execute_result"
    },
    {
     "data": {
      "image/png": "[encoded data removed]",
      "text/plain": [
       "<Figure size 1008x576 with 1 Axes>"
      ]
     },
     "metadata": {
      "needs_background": "light"
     },
     "output_type": "display_data"
    }
   ],
   "source": [
    "df_degree.groupby(['target'])['target'].count().plot.bar(title=\"Target class balance\", figsize=(14,8))"
   ]
  },
  {
   "cell_type": "markdown",
   "id": "1de11d2f-7fc5-49f8-8d00-fa1595719891",
   "metadata": {},
   "source": [
    "10% more class in True label"
   ]
  },
  {
   "cell_type": "markdown",
   "id": "9bbecc14-1de0-41c0-8a87-252f485ccbd2",
   "metadata": {
    "tags": []
   },
   "source": [
    "### Dataset for task 2"
   ]
  },
  {
   "cell_type": "code",
   "execution_count": 14,
   "id": "b9d70cbf-d80e-4b82-96ba-b13143560dd7",
   "metadata": {},
   "outputs": [
    {
     "name": "stdout",
     "output_type": "stream",
     "text": [
      "classes {'Head', 'Multiple Parts', 'Body', 'Arm', 'Leg'}\n",
      "Instances 1755\n"
     ]
    }
   ],
   "source": [
    "HEAD     = ['SKULL', 'EAR(S) INTERNAL & HEARING', 'EAR(S) EXTERNAL', 'EAR(S) INTERNAL & EXTERNAL' ,'EYE(S) OPTIC NERVE/VISON', 'NOSE/NASAL PASSAGES/SINUS/SMELL', 'EAR(S) INTERNAL & HEARING', 'BRAIN', 'FACE,NEC', 'FACE, MULTIPLE PARTS', 'HEAD, MULTIPLE PARTS', 'HEAD,NEC', 'MULTIPLE PARTS', 'MOUTH/LIP/TEETH/TONGUE/THROAT/TASTE', 'JAW INCLUDE CHIN', 'SCALP', 'NECK']\n",
    "LEG      = ['LEG, MULTIPLE PARTS', 'LOWER LEG/TIBIA/FIBULA', 'FOOT(NOT ANKLE/TOE)/TARSUS/METATARSUS', 'LEG, NEC', 'KNEE/PATELLA', 'TOE(S)/PHALANGES', 'ANKLE', 'THIGH/FEMUR', 'LOWER EXTREMITIES,NEC', 'LOWER EXTREMITIES, MULTIPLE PARTS']\n",
    "ARM      = ['ARM, MULTIPLE PARTS', 'ARM,NEC', 'HAND (NOT WRIST OR FINGERS)', 'WRIST', 'FINGER(S)/THUMB', 'UPPER ARM/HUMERUS', 'SHOULDERS (COLLARBONE/CLAVICLE/SCAPULA)', 'ELBOW', 'FOREARM/ULNAR/RADIUS', 'UPPER EXTREMITIES, MULTIPLE', 'UPPER EXTREMITIES, NEC']\n",
    "BODY     = ['CHEST (RIBS/BREAST BONE/CHEST ORGNS)', 'BODY SYSTEMS', 'ABDOMEN/INTERNAL ORGANS', 'BODY PARTS, NEC', 'TRUNK, MULTIPLE PARTS', 'TRUNK,NEC', 'HIPS (PELVIS/ORGANS/KIDNEYS/BUTTOCKS)', 'BACK (MUSCLES/SPINE/S-CORD/TAILBONE)']\n",
    "MULTIPLE = ['MULTIPLE PARTS (MORE THAN ONE MAJOR)']\n",
    "\n",
    "df_parts=df[['NARRATIVE', 'INJ_BODY_PART_CD', 'INJ_BODY_PART']].copy()\n",
    "df_parts = df_parts[df_parts['INJ_BODY_PART_CD'] != '?']\n",
    "del df_parts['INJ_BODY_PART_CD']\n",
    "\n",
    "df_parts['INJ_BODY_PART'][df_parts['INJ_BODY_PART'].isin(HEAD)]     = 'Head'\n",
    "df_parts['INJ_BODY_PART'][df_parts['INJ_BODY_PART'].isin(LEG)]      = 'Leg'\n",
    "df_parts['INJ_BODY_PART'][df_parts['INJ_BODY_PART'].isin(ARM)]      = 'Arm'\n",
    "df_parts['INJ_BODY_PART'][df_parts['INJ_BODY_PART'].isin(BODY)]     = 'Body'\n",
    "df_parts['INJ_BODY_PART'][df_parts['INJ_BODY_PART'].isin(MULTIPLE)] = 'Multiple Parts'\n",
    "df_parts['target'] = df_parts['INJ_BODY_PART']\n",
    "df_parts = df_parts[df_parts['target']!='UNCLASSIFIED']\n",
    "del df_parts['INJ_BODY_PART']\n",
    "split_save(df_parts, path=args.injury_bodyparts_file)\n",
    "print(\"classes\", set(df_parts.target))\n",
    "print(\"Instances\", df_parts.shape[0])"
   ]
  },
  {
   "cell_type": "code",
   "execution_count": 15,
   "id": "1576a450-8b82-4a85-af87-bd794d4fdc3a",
   "metadata": {},
   "outputs": [
    {
     "data": {
      "text/plain": [
       "Arm               36.524217\n",
       "Body              21.766382\n",
       "Leg               20.512821\n",
       "Head              15.270655\n",
       "Multiple Parts     5.925926\n",
       "Name: target, dtype: float64"
      ]
     },
     "execution_count": 15,
     "metadata": {},
     "output_type": "execute_result"
    }
   ],
   "source": [
    "100*df_parts['target'].value_counts(normalize=True)"
   ]
  },
  {
   "cell_type": "code",
   "execution_count": 16,
   "id": "0be0c5bc-9d5c-4fd9-9317-3c86a041cee4",
   "metadata": {},
   "outputs": [
    {
     "data": {
      "text/plain": [
       "<AxesSubplot:title={'center':'Target class balance'}, xlabel='target'>"
      ]
     },
     "execution_count": 16,
     "metadata": {},
     "output_type": "execute_result"
    },
    {
     "data": {
      "image/png": "[encoded data removed]",
      "text/plain": [
       "<Figure size 1008x576 with 1 Axes>"
      ]
     },
     "metadata": {
      "needs_background": "light"
     },
     "output_type": "display_data"
    }
   ],
   "source": [
    "df_parts.groupby(['target'])['target'].count().plot.bar(title=\"Target class balance\", figsize=(14,8))"
   ]
  },
  {
   "cell_type": "markdown",
   "id": "f8fb313f-64ac-4e8f-b4fe-717491739680",
   "metadata": {},
   "source": [
    "Even the class is not balance, `Arm` has the most instances, and `Multiple Parts` has least instances. So when evaulate the model build from this class we need to look at the confusion matrix to get a better understaind on the actual pefromance."
   ]
  },
  {
   "cell_type": "markdown",
   "id": "38e8cca9-2404-4366-93cc-433d56fc1f31",
   "metadata": {
    "tags": []
   },
   "source": [
    "### Dataset for task 3"
   ]
  },
  {
   "cell_type": "code",
   "execution_count": 17,
   "id": "354530f8-7f8d-4254-a91a-669b1622c624",
   "metadata": {},
   "outputs": [],
   "source": [
    "'''\n",
    "Correct word and lemmatize word, also remove words lenght < 1, and\n",
    "merge lines sentences sepreated by |\n",
    "'''\n",
    "texts = []\n",
    "entities = []\n",
    "text = ''\n",
    "entity=''\n",
    "with codecs.open(args.ner_accident, 'r', encoding='utf-8', errors='ignore') as f:\n",
    "    for line in f:\n",
    "        if line.strip() == '' and text !=  '':\n",
    "            texts.append(text[:-1])\n",
    "            entities.append(entity[:-1])\n",
    "            text = ''\n",
    "            entity=''\n",
    "        else:\n",
    "            try:\n",
    "                pos = line.strip().split(' ')\n",
    "                if len(pos) == 2:\n",
    "                    if len(pos[0].strip()) > 1:\n",
    "                        text   += lemmatize_word(pos[0].strip()) + '|'\n",
    "                        entity += pos[1] + '|'\n",
    "                elif len(pos)>2:\n",
    "                    multi = ''\n",
    "                    for word in pos[:-1]:\n",
    "                        tmp = word.strip()\n",
    "                        if tmp  == '' or tmp  == \"''\" :\n",
    "                            continue\n",
    "                        \n",
    "                        if tmp not in string.punctuation:\n",
    "                            if len(tmp) > 1:\n",
    "                                multi  += lemmatize_word(tmp) + '-'\n",
    "        \n",
    "                    if len(multi)>0:\n",
    "                        entity += pos[-1].strip() + '|'\n",
    "                        text += multi + \"|\"\n",
    "                        \n",
    "                if len(text[:-1].split('|')) != len(entity[:-1].split('|')):\n",
    "                    print(line)\n",
    "                    print(text[:-1].split('|'), len(text[:-1].split('|')))\n",
    "                    print(entity[:-1].split('|'), len(entity[:-1].split('|')))\n",
    "                    break\n",
    "            except Exception as e:\n",
    "                print(e)\n",
    "df_ner = pd.DataFrame({\"NARRATIVE\": texts,\"target\":entities})\n",
    "\n",
    "# Save data set and split to train, vald and test\n",
    "split_save(df_ner, path=args.NER_file, stratify=False)"
   ]
  },
  {
   "cell_type": "code",
   "execution_count": 18,
   "id": "cc84871e-46b2-4f73-8e41-36b484ec81a8",
   "metadata": {},
   "outputs": [
    {
     "data": {
      "text/html": [
       "<div>\n",
       "<style scoped>\n",
       "    .dataframe tbody tr th:only-of-type {\n",
       "        vertical-align: middle;\n",
       "    }\n",
       "\n",
       "    .dataframe tbody tr th {\n",
       "        vertical-align: top;\n",
       "    }\n",
       "\n",
       "    .dataframe thead th {\n",
       "        text-align: right;\n",
       "    }\n",
       "</style>\n",
       "<table border=\"1\" class=\"dataframe\">\n",
       "  <thead>\n",
       "    <tr style=\"text-align: right;\">\n",
       "      <th></th>\n",
       "      <th>NARRATIVE</th>\n",
       "      <th>target</th>\n",
       "    </tr>\n",
       "  </thead>\n",
       "  <tbody>\n",
       "    <tr>\n",
       "      <th>0</th>\n",
       "      <td>he|be|pull|54|inch|wiper|and|felt|pain|in|his|...</td>\n",
       "      <td>O|O|O|O|O|O|O|O|O|O|O|O|O</td>\n",
       "    </tr>\n",
       "    <tr>\n",
       "      <th>1</th>\n",
       "      <td>breathing|difficulty|employee|provide|first|no...</td>\n",
       "      <td>O|O|B-person/employee|O|O|O|O|O|O|O</td>\n",
       "    </tr>\n",
       "    <tr>\n",
       "      <th>2</th>\n",
       "      <td>while|palletizing|flat|rock|landscape|stone|in...</td>\n",
       "      <td>O|O|O|O|O|O|B-person/injured_person|I-person/i...</td>\n",
       "    </tr>\n",
       "    <tr>\n",
       "      <th>3</th>\n",
       "      <td>employee|be|help|load|bolt|on|roof|bolter|on|s...</td>\n",
       "      <td>B-person/employee|O|O|O|O|O|O|O|O|O|O|O|O|O|O|...</td>\n",
       "    </tr>\n",
       "    <tr>\n",
       "      <th>4</th>\n",
       "      <td>employee|step|into|hot|feed|and|fell|while|loo...</td>\n",
       "      <td>B-person/employee|O|O|O|O|O|O|O|O|O|O|O|O|O</td>\n",
       "    </tr>\n",
       "  </tbody>\n",
       "</table>\n",
       "</div>"
      ],
      "text/plain": [
       "                                           NARRATIVE  \\\n",
       "0  he|be|pull|54|inch|wiper|and|felt|pain|in|his|...   \n",
       "1  breathing|difficulty|employee|provide|first|no...   \n",
       "2  while|palletizing|flat|rock|landscape|stone|in...   \n",
       "3  employee|be|help|load|bolt|on|roof|bolter|on|s...   \n",
       "4  employee|step|into|hot|feed|and|fell|while|loo...   \n",
       "\n",
       "                                              target  \n",
       "0                          O|O|O|O|O|O|O|O|O|O|O|O|O  \n",
       "1                O|O|B-person/employee|O|O|O|O|O|O|O  \n",
       "2  O|O|O|O|O|O|B-person/injured_person|I-person/i...  \n",
       "3  B-person/employee|O|O|O|O|O|O|O|O|O|O|O|O|O|O|...  \n",
       "4        B-person/employee|O|O|O|O|O|O|O|O|O|O|O|O|O  "
      ]
     },
     "execution_count": 18,
     "metadata": {},
     "output_type": "execute_result"
    }
   ],
   "source": [
    "df_ner.head()"
   ]
  },
  {
   "cell_type": "code",
   "execution_count": null,
   "id": "07b2bfef-316e-4a09-819a-c3af69bd7d54",
   "metadata": {},
   "outputs": [],
   "source": []
  },
  {
   "cell_type": "markdown",
   "id": "cee6a2f2-9ead-46a4-8c38-05eca4877d81",
   "metadata": {
    "tags": []
   },
   "source": [
    "## Data Prepreocessing and Preparation "
   ]
  },
  {
   "cell_type": "markdown",
   "id": "5fe352f5-5251-41cd-b53e-7c83f3ffdb26",
   "metadata": {
    "tags": []
   },
   "source": [
    "#### Test lem and stem"
   ]
  },
  {
   "cell_type": "code",
   "execution_count": 19,
   "id": "cffcaa3b-aa20-4fca-b3ce-ca43a14c3619",
   "metadata": {},
   "outputs": [],
   "source": [
    "df_stem      = stem(nltk.tokenize.word_tokenize((df['NARRATIVE'].values[0])), df=True)\n",
    "df_lemmatize = lemmatize(nltk.tokenize.word_tokenize((df['NARRATIVE'].values[0])), df=True)\n",
    "df_stem['lemmatized'] = df_lemmatize['lemmatized']"
   ]
  },
  {
   "cell_type": "code",
   "execution_count": 20,
   "id": "6ba7abca-c4c7-4b06-a38b-de2be2acb1dc",
   "metadata": {},
   "outputs": [
    {
     "data": {
      "text/html": [
       "<div>\n",
       "<style scoped>\n",
       "    .dataframe tbody tr th:only-of-type {\n",
       "        vertical-align: middle;\n",
       "    }\n",
       "\n",
       "    .dataframe tbody tr th {\n",
       "        vertical-align: top;\n",
       "    }\n",
       "\n",
       "    .dataframe thead th {\n",
       "        text-align: right;\n",
       "    }\n",
       "</style>\n",
       "<table border=\"1\" class=\"dataframe\">\n",
       "  <thead>\n",
       "    <tr style=\"text-align: right;\">\n",
       "      <th></th>\n",
       "      <th>original</th>\n",
       "      <th>stemmed</th>\n",
       "      <th>lemmatized</th>\n",
       "    </tr>\n",
       "  </thead>\n",
       "  <tbody>\n",
       "    <tr>\n",
       "      <th>0</th>\n",
       "      <td>employee</td>\n",
       "      <td>employe</td>\n",
       "      <td>employee</td>\n",
       "    </tr>\n",
       "    <tr>\n",
       "      <th>1</th>\n",
       "      <td>was</td>\n",
       "      <td>wa</td>\n",
       "      <td>be</td>\n",
       "    </tr>\n",
       "    <tr>\n",
       "      <th>4</th>\n",
       "      <td>primary</td>\n",
       "      <td>primari</td>\n",
       "      <td>primary</td>\n",
       "    </tr>\n",
       "    <tr>\n",
       "      <th>13</th>\n",
       "      <td>employee</td>\n",
       "      <td>employe</td>\n",
       "      <td>employee</td>\n",
       "    </tr>\n",
       "    <tr>\n",
       "      <th>18</th>\n",
       "      <td>operating</td>\n",
       "      <td>oper</td>\n",
       "      <td>operate</td>\n",
       "    </tr>\n",
       "    <tr>\n",
       "      <th>24</th>\n",
       "      <td>machine</td>\n",
       "      <td>machin</td>\n",
       "      <td>machine</td>\n",
       "    </tr>\n",
       "  </tbody>\n",
       "</table>\n",
       "</div>"
      ],
      "text/plain": [
       "     original  stemmed lemmatized\n",
       "0    employee  employe   employee\n",
       "1         was       wa         be\n",
       "4     primary  primari    primary\n",
       "13   employee  employe   employee\n",
       "18  operating     oper    operate\n",
       "24    machine   machin    machine"
      ]
     },
     "execution_count": 20,
     "metadata": {},
     "output_type": "execute_result"
    }
   ],
   "source": [
    "df_stem[df_stem['stemmed'] != df_stem['lemmatized']]"
   ]
  },
  {
   "cell_type": "markdown",
   "id": "b7bc2e2e-43fd-4c8d-ae98-1444b8b75250",
   "metadata": {
    "tags": []
   },
   "source": [
    "### Test Stopwords"
   ]
  },
  {
   "cell_type": "code",
   "execution_count": 21,
   "id": "ff56363c-1a77-42aa-960d-4b72f2d455c9",
   "metadata": {},
   "outputs": [
    {
     "name": "stdout",
     "output_type": "stream",
     "text": [
      "Number of stopwords: 27\n",
      "Number of terms    : 3490\n",
      "Ascending\n",
      "               term      rank\n",
      "938       elevation  0.142870\n",
      "2140  perpendicular  0.142870\n",
      "225            baby  0.148709\n",
      "3022       swelling  0.148709\n",
      "38      acupuncture  0.148709\n",
      "3280    unknowingly  0.152673\n",
      "3170            tow  0.158576\n",
      "2724        silicon  0.158644\n",
      "144      applicator  0.158644\n",
      "1012       exercise  0.158733\n",
      "2105    participate  0.158733\n",
      "1463            ind  0.163071\n",
      "143     application  0.167219\n",
      "1165          forth  0.167219\n",
      "913          easier  0.167219\n",
      "\n",
      "Descending\n",
      "       term       rank\n",
      "2537   rock  43.318376\n",
      "343    bolt  42.419348\n",
      "2904   step  36.437109\n",
      "2163  piece  34.777588\n",
      "1147   foot  34.305766\n",
      "2086   pain  33.967999\n",
      "3217  truck  32.264098\n",
      "1075   felt  31.611745\n",
      "1371    hit  30.991819\n",
      "289    belt  30.732714\n",
      "1608   knee  29.773345\n",
      "857    down  29.420928\n",
      "1230    get  29.276470\n",
      "1364    him  29.055487\n",
      "1529   into  28.951256\n"
     ]
    },
    {
     "name": "stderr",
     "output_type": "stream",
     "text": [
      "/home/cun/anaconda3/envs/CITS4012/lib/python3.8/site-packages/sklearn/utils/deprecation.py:87: FutureWarning: Function get_feature_names is deprecated; get_feature_names is deprecated in 1.0 and will be removed in 1.2. Please use get_feature_names_out instead.\n",
      "  warnings.warn(msg, category=FutureWarning)\n"
     ]
    }
   ],
   "source": [
    "vectorizer = TfidfVectorizer(max_df=0.1, min_df=1)\n",
    "_df = df[[\"NARRATIVE\"]].copy()\n",
    "_df['NARRATIVE'] = _df['NARRATIVE'].apply(lambda x: tokenize(x))\n",
    "_df['NARRATIVE'] = _df['NARRATIVE'].apply(lambda x: lemmatize(x))\n",
    "# _df['NARRATIVE'] = _df['NARRATIVE'].apply(lambda x: stem(x))\n",
    "\n",
    "stopwrods, X = SK_TFIDF_stopwords(_df['NARRATIVE'].apply(lambda x: ' '.join(x)), vectorizer)\n",
    "\n",
    "terms = vectorizer.get_feature_names()\n",
    "\n",
    "# sum tfidf frequency of each term through documents\n",
    "sums = X.sum(axis=0)\n",
    "\n",
    "# connecting term to its sums frequency\n",
    "data = []\n",
    "for col, term in enumerate(terms):\n",
    "    data.append( (term, sums[0,col] ))\n",
    "print('Number of stopwords:', len(stopwrods))\n",
    "print('Number of terms    :', len(terms))\n",
    "\n",
    "ranking = pd.DataFrame(data, columns=['term','rank'])\n",
    "print('Ascending')\n",
    "print(ranking.sort_values('rank', ascending=True)[0:15])\n",
    "\n",
    "print('\\nDescending')\n",
    "print(ranking.sort_values('rank', ascending=False)[0:15])"
   ]
  },
  {
   "cell_type": "code",
   "execution_count": 22,
   "id": "04eaa69f-cbf7-40e5-8ac5-1c15d551e0b3",
   "metadata": {},
   "outputs": [],
   "source": [
    "# Add words that could be meaningless\n",
    "for w in ['abb','abc','dia', 'yes','yee', 'that', 'ind', 'wd', 'to', 'him']:\n",
    "        stopwrods.add(w)"
   ]
  },
  {
   "cell_type": "code",
   "execution_count": 23,
   "id": "cb195c6d-fce9-402d-adb9-d6a47f6bb740",
   "metadata": {},
   "outputs": [
    {
     "name": "stdout",
     "output_type": "stream",
     "text": [
      "{'that', 'cut', 'fall', 'wd', 'him', 'not', 'be', 'to', 'ind', 'hand', 'employee', 'out', 'dia', 'his', 'strike', 'left', 'slip', 'when', 'abb', 'with', 'off', 'work', 'from', 'the', 'finger', 'abc', 'yes', 'yee', 'fell', 'and', 'have', 'right', 'while', 'roof', 'back', 'cause'}\n"
     ]
    }
   ],
   "source": [
    "print(stopwrods)"
   ]
  },
  {
   "cell_type": "markdown",
   "id": "cb63f978-cb63-4dee-9dff-d9ea8017434e",
   "metadata": {
    "tags": []
   },
   "source": [
    "# Function repeative Prepreocessing and Preparation"
   ]
  },
  {
   "cell_type": "code",
   "execution_count": 24,
   "id": "51713e14-599e-44a8-970f-86fc0ff88f7c",
   "metadata": {},
   "outputs": [],
   "source": [
    "def tok_lem_sem(text):\n",
    "    words = tokenize(text)\n",
    "    words = lemmatize(words)\n",
    "#     words = stem(words)\n",
    "    return words\n",
    "\n",
    "def removestop_join(words, stopwords):\n",
    "    words = remove_stopwords(words, stopwords)\n",
    "    return ' '.join(words)\n",
    "\n",
    "def prepreocessing(data, stop, target=\"NARRATIVE\"):\n",
    "    _df=data.copy()\n",
    "    with mp.Pool(mp.cpu_count()) as pool:\n",
    "        _df[target] = pool.map(tok_lem_sem, _df[target])\n",
    "    _df[target] = _df.apply(lambda row: removestop_join(row[target], stop), axis=1)\n",
    "    return _df"
   ]
  },
  {
   "cell_type": "code",
   "execution_count": 25,
   "id": "61f3bcd3-a9e7-4e27-ae80-956f2ef61834",
   "metadata": {},
   "outputs": [],
   "source": [
    "# Dataset For task 1"
   ]
  },
  {
   "cell_type": "code",
   "execution_count": 26,
   "id": "220d9c9a-7ed1-4979-b669-369fcdc14149",
   "metadata": {},
   "outputs": [],
   "source": [
    "prepreocessing(pd.read_csv(args.degree_injury_file), stopwrods).to_csv(args.degree_injury_file, index=False)"
   ]
  },
  {
   "cell_type": "code",
   "execution_count": 27,
   "id": "ff5af9e3-e58e-48fc-9af5-5a2f23424fc3",
   "metadata": {},
   "outputs": [],
   "source": [
    "# Dataset For task 2"
   ]
  },
  {
   "cell_type": "code",
   "execution_count": 28,
   "id": "dd1cb272-e5fc-42fc-aa9d-e993e93272f9",
   "metadata": {},
   "outputs": [],
   "source": [
    "prepreocessing(pd.read_csv(args.injury_bodyparts_file), stopwrods).to_csv(args.injury_bodyparts_file, index=False)"
   ]
  },
  {
   "cell_type": "code",
   "execution_count": null,
   "id": "858a948c-dd72-4843-95de-404bd89af2e7",
   "metadata": {},
   "outputs": [],
   "source": []
  },
  {
   "cell_type": "markdown",
   "id": "e9e45f57-37ce-4fc2-bfcf-e9bed8248745",
   "metadata": {},
   "source": [
    "# Vectorizers is create for each task before model building"
   ]
  },
  {
   "cell_type": "markdown",
   "id": "a8e2adbd-fb23-4264-a5cc-076b0e3bfb6a",
   "metadata": {},
   "source": [
    "see task_1, task_2, ner, Transformer"
   ]
  },
  {
   "cell_type": "code",
   "execution_count": null,
   "id": "2bdb0a49-024f-4a96-a9bf-ef635fd98867",
   "metadata": {},
   "outputs": [],
   "source": []
  }
 ],
 "metadata": {
  "kernelspec": {
   "display_name": "Python 3 (ipykernel)",
   "language": "python",
   "name": "python3"
  },
  "language_info": {
   "codemirror_mode": {
    "name": "ipython",
    "version": 3
   },
   "file_extension": ".py",
   "mimetype": "text/x-python",
   "name": "python",
   "nbconvert_exporter": "python",
   "pygments_lexer": "ipython3",
   "version": "3.8.5"
  }
 },
 "nbformat": 4,
 "nbformat_minor": 5
}
